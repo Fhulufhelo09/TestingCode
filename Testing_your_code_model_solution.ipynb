{
 "cells": [
  {
   "cell_type": "markdown",
   "metadata": {},
   "source": [
    "\n",
    "\n",
    "\n",
    "## Challenge\n",
    "\n",
    "<div align=\"center\" style=\"width: 600px; font-size: 80%; text-align: center; margin: 0 auto\">\n",
    "<img src=\"https://raw.githubusercontent.com/Explore-AI/Pictures/master/Broken_Laptop.jpg\"\n",
    "     alt=\"Broken code\"\n",
    "     style=\"float: center; padding-bottom=0.5em\"\n",
    "     width=600px/>\n",
    "Something is very wrong... Image by <a href=\"https://pixabay.com/illustrations/mistake-404-error-computer-website-3085712/\">Pixabay</a> CC0\n",
    "</div>\n",
    "\n",
    "The following functions have errors. Your task is to figure out what each function is supposed to do by examining the expected outputs and fix them. Use the autograder to check your answers, and use the error messages provided to help fix your code.\n",
    "\n",
    "### Function 1"
   ]
  },
  {
   "cell_type": "code",
   "execution_count": 1,
   "metadata": {},
   "outputs": [],
   "source": [
    "### START FUNCTION\n",
    "def function_1(a,b):\n",
    "    c = (a * b) - a\n",
    "    return c\n",
    "### END FUNCTION"
   ]
  },
  {
   "cell_type": "code",
   "execution_count": 2,
   "metadata": {},
   "outputs": [
    {
     "data": {
      "text/plain": [
       "0"
      ]
     },
     "execution_count": 2,
     "metadata": {},
     "output_type": "execute_result"
    }
   ],
   "source": [
    "function_1(1,1)"
   ]
  },
  {
   "cell_type": "markdown",
   "metadata": {},
   "source": [
    "_**Expected Outputs**_ \n",
    "```python\n",
    "function_1(1,1) == 0\n",
    "function_1(1,2) == 1\n",
    "function_1(5,2) == 5\n",
    "function_1(5,6) == 25\n",
    "function_1(-5,-6) == 35\n",
    "```"
   ]
  },
  {
   "cell_type": "markdown",
   "metadata": {},
   "source": [
    "### Function 2"
   ]
  },
  {
   "cell_type": "code",
   "execution_count": 3,
   "metadata": {},
   "outputs": [],
   "source": [
    "### START FUNCTION\n",
    "def function_2(a,b):\n",
    "    if a < 2:\n",
    "        return a\n",
    "    else:\n",
    "        return b\n",
    "### END FUNCTION"
   ]
  },
  {
   "cell_type": "code",
   "execution_count": 4,
   "metadata": {},
   "outputs": [
    {
     "data": {
      "text/plain": [
       "-5"
      ]
     },
     "execution_count": 4,
     "metadata": {},
     "output_type": "execute_result"
    }
   ],
   "source": [
    "function_2(-5,-6)"
   ]
  },
  {
   "cell_type": "markdown",
   "metadata": {},
   "source": [
    "_**Expected Outputs**_ \n",
    "```python\n",
    "function_2(1,1) == 1\n",
    "function_2(1,2) == 1\n",
    "function_2(5,2) == 2\n",
    "function_2(5,6) == 6\n",
    "function_2(-5,-6) == -5\n",
    "```"
   ]
  },
  {
   "cell_type": "markdown",
   "metadata": {},
   "source": [
    "### Function 3"
   ]
  },
  {
   "cell_type": "code",
   "execution_count": 1,
   "metadata": {},
   "outputs": [],
   "source": [
    "### START FUNCTION\n",
    "def function_3(a,b):\n",
    "    c = a*b*2\n",
    "    return (c,c-1)\n",
    "### END FUNCTION"
   ]
  },
  {
   "cell_type": "code",
   "execution_count": 2,
   "metadata": {},
   "outputs": [
    {
     "data": {
      "text/plain": [
       "(60, 59)"
      ]
     },
     "execution_count": 2,
     "metadata": {},
     "output_type": "execute_result"
    }
   ],
   "source": [
    "function_3(-5,-6)"
   ]
  },
  {
   "cell_type": "markdown",
   "metadata": {},
   "source": [
    "_**Expected Outputs**_ \n",
    "```python\n",
    "function_3(1,1) == (2,1)\n",
    "function_3(1,2) == (4,3)\n",
    "function_3(5,2) == (20,19)\n",
    "function_3(5,6) == (60,59)\n",
    "function_3(-5,-6) == (60,59)\n",
    "```"
   ]
  }
 ],
 "metadata": {
  "kernelspec": {
   "display_name": "Python 3",
   "language": "python",
   "name": "python3"
  },
  "language_info": {
   "codemirror_mode": {
    "name": "ipython",
    "version": 3
   },
   "file_extension": ".py",
   "mimetype": "text/x-python",
   "name": "python",
   "nbconvert_exporter": "python",
   "pygments_lexer": "ipython3",
   "version": "3.8.8"
  }
 },
 "nbformat": 4,
 "nbformat_minor": 4
}
